{
 "cells": [
  {
   "cell_type": "markdown",
   "metadata": {},
   "source": [
    "# Project 7 - Machine Learning - Supervised Learning"
   ]
  },
  {
   "cell_type": "markdown",
   "metadata": {},
   "source": [
    "Objective: Use linear regression to predict beer consumption\n",
    "\n",
    "Dataset: Beer Consumption - Sao Paulo\n",
    "\n",
    "Source: https://www.kaggle.com/dongeorge/beer-consumption-sao-paulo/download"
   ]
  },
  {
   "cell_type": "markdown",
   "metadata": {},
   "source": [
    "**1. Libraries**"
   ]
  },
  {
   "cell_type": "code",
   "execution_count": 1,
   "metadata": {},
   "outputs": [],
   "source": [
    "import pandas as pd\n",
    "import numpy as np\n",
    "import matplotlib.pyplot as plt\n",
    "import seaborn as sns\n",
    "from datetime import datetime\n",
    "from prettytable import PrettyTable\n",
    "import prettytable\n",
    "%matplotlib inline"
   ]
  },
  {
   "cell_type": "markdown",
   "metadata": {},
   "source": [
    "**2. Functions**"
   ]
  },
  {
   "cell_type": "code",
   "execution_count": 2,
   "metadata": {},
   "outputs": [],
   "source": [
    "def estacao(data):\n",
    "    if data>= 79 and data <= 171:\n",
    "        return 'outono'\n",
    "    elif data>= 172 and data <= 265:\n",
    "        return 'inverno'\n",
    "    elif data>= 266 and data <= 356:\n",
    "        return 'primavera'\n",
    "    else:\n",
    "        return 'verao'\n",
    "    \n",
    "def dia(num):\n",
    "    dias = {0:'segunda',1:'terca',2:'quarta',3:'quinta',4:'sexta',5:'sabado',6:'domingo'}\n",
    "    return dias[num]\n",
    "\n",
    "def result_regression(model,X_train,X_test,y_train,y_test):\n",
    "    table = PrettyTable( header=False,horizontal_char ='=', hrules =prettytable.ALL)\n",
    "\n",
    "    table.add_row([\"INTERCEPT \", model.intercept_])\n",
    "    try:\n",
    "         table.add_row([\"COEFICIENTS\",[f\"β{i+1} = {round(j,4)}\" for i,j in enumerate(model.coef_)]])\n",
    "    except:\n",
    "         table.add_row([\"COEFICIENTS\",[f\"β{i+1} = {round(j,4)}\" for item in model.coef_ for i,j in enumerate(item)]])\n",
    "    table.add_row([\"R^2 SCORE TRAIN\", model.score(X_train,y_train)])\n",
    "    table.add_row([\"R^2 SCORE TEST\", model.score(X_test,y_test)])\n",
    "\n",
    "    return print(table)"
   ]
  },
  {
   "cell_type": "markdown",
   "metadata": {},
   "source": [
    "**3. Exploring Dataset**"
   ]
  },
  {
   "cell_type": "code",
   "execution_count": 3,
   "metadata": {},
   "outputs": [],
   "source": [
    "beer = pd.read_csv('Consumo_cerveja.csv', names=['data','t_med_c','t_min_c','t_max_c','precipt_mm','fds','litros'],header=0)"
   ]
  },
  {
   "cell_type": "code",
   "execution_count": 4,
   "metadata": {},
   "outputs": [
    {
     "data": {
      "text/plain": [
       "(941, 7)"
      ]
     },
     "execution_count": 4,
     "metadata": {},
     "output_type": "execute_result"
    }
   ],
   "source": [
    "beer.shape"
   ]
  },
  {
   "cell_type": "code",
   "execution_count": 5,
   "metadata": {},
   "outputs": [
    {
     "name": "stdout",
     "output_type": "stream",
     "text": [
      "<class 'pandas.core.frame.DataFrame'>\n",
      "RangeIndex: 941 entries, 0 to 940\n",
      "Data columns (total 7 columns):\n",
      "data          365 non-null object\n",
      "t_med_c       365 non-null object\n",
      "t_min_c       365 non-null object\n",
      "t_max_c       365 non-null object\n",
      "precipt_mm    365 non-null object\n",
      "fds           365 non-null float64\n",
      "litros        365 non-null float64\n",
      "dtypes: float64(2), object(5)\n",
      "memory usage: 51.5+ KB\n"
     ]
    }
   ],
   "source": [
    "beer.info()"
   ]
  },
  {
   "cell_type": "code",
   "execution_count": 6,
   "metadata": {},
   "outputs": [
    {
     "data": {
      "text/plain": [
       "data          576\n",
       "t_med_c       576\n",
       "t_min_c       576\n",
       "t_max_c       576\n",
       "precipt_mm    576\n",
       "fds           576\n",
       "litros        576\n",
       "dtype: int64"
      ]
     },
     "execution_count": 6,
     "metadata": {},
     "output_type": "execute_result"
    }
   ],
   "source": [
    "beer.isnull().sum()"
   ]
  },
  {
   "cell_type": "code",
   "execution_count": 7,
   "metadata": {},
   "outputs": [
    {
     "data": {
      "image/png": "[encoded data removed]",
      "text/plain": [
       "<Figure size 432x288 with 1 Axes>"
      ]
     },
     "metadata": {
      "needs_background": "light"
     },
     "output_type": "display_data"
    }
   ],
   "source": [
    "sns.heatmap(beer.isnull(), cbar=False);"
   ]
  },
  {
   "cell_type": "code",
   "execution_count": 8,
   "metadata": {},
   "outputs": [],
   "source": [
    "beer.dropna(inplace=True)"
   ]
  },
  {
   "cell_type": "code",
   "execution_count": 9,
   "metadata": {},
   "outputs": [
    {
     "data": {
      "text/plain": [
       "data          0\n",
       "t_med_c       0\n",
       "t_min_c       0\n",
       "t_max_c       0\n",
       "precipt_mm    0\n",
       "fds           0\n",
       "litros        0\n",
       "dtype: int64"
      ]
     },
     "execution_count": 9,
     "metadata": {},
     "output_type": "execute_result"
    }
   ],
   "source": [
    "beer.isnull().sum()"
   ]
  },
  {
   "cell_type": "markdown",
   "metadata": {},
   "source": [
    "**4. Manipulating Dataset**"
   ]
  },
  {
   "cell_type": "code",
   "execution_count": 11,
   "metadata": {},
   "outputs": [],
   "source": [
    "beer = pd.read_csv('Consumo_cerveja.csv', names=['data','t_med_c','t_min_c','t_max_c','precipt_mm','fds','litros'],header=0)\n",
    "beer.dropna(inplace=True)"
   ]
  },
  {
   "cell_type": "markdown",
   "metadata": {},
   "source": [
    "**4.1 Data columns:**\n",
    "\n",
    ">setting 'data' column as datetime type,    \n",
    ">creating 'data_ordinal' containing ordinal datetime,       \n",
    ">creating 'estacao' based upon date, to find season,      \n",
    ">creating 'dia_semana' based upon date, to find day of week,      "
   ]
  },
  {
   "cell_type": "code",
   "execution_count": 12,
   "metadata": {},
   "outputs": [],
   "source": [
    "beer['data'] = beer.loc[:,'data'].apply(lambda x: datetime.strptime(x, '%Y-%m-%d'))\n",
    "\n",
    "beer['data_ordinal'] = beer.loc[:,'data'].apply(lambda x: x.toordinal())\n",
    "\n",
    "#finding season\n",
    "beer['estacao'] = beer.loc[:,'data'].apply(lambda x: estacao(x.timetuple().tm_yday))\n",
    "\n",
    "#finding day of week\n",
    "beer['dia_semana'] = beer.loc[:,'data'].apply(lambda x: dia(x.weekday()))"
   ]
  },
  {
   "cell_type": "markdown",
   "metadata": {},
   "source": [
    "**4.2 temperature columns:**\n",
    "\n",
    ">setting temperatures to float type;          \n",
    ">creating categorical column 't_med_cat',        "
   ]
  },
  {
   "cell_type": "code",
   "execution_count": 13,
   "metadata": {},
   "outputs": [],
   "source": [
    "#converting to float\n",
    "beer[['t_med_c','t_min_c','t_max_c','precipt_mm']] = beer[['t_med_c','t_min_c','t_max_c','precipt_mm']].applymap(lambda x: float(x.replace(',','.')))"
   ]
  },
  {
   "cell_type": "code",
   "execution_count": 14,
   "metadata": {},
   "outputs": [],
   "source": [
    "bins_t = [beer['t_med_c'].min(), \n",
    "          beer['t_med_c'].mean() - beer['t_med_c'].std(),\n",
    "          beer['t_med_c'].mean() + beer['t_med_c'].std(),\n",
    "          beer['t_med_c'].max()]\n",
    "\n",
    "beer['t_med_cat'] = pd.cut(beer.t_med_c,bins = bins_t, labels=[\"baixa\", \"media\", \"alta\"])"
   ]
  },
  {
   "cell_type": "markdown",
   "metadata": {},
   "source": [
    "**4.3 precipitation column**\n",
    "\n",
    "Categories:\n",
    "- Chuva leve: menos de 2,5mm\n",
    "- Chuva moderada: entre 2,5mm e 7,6mm\n",
    "- Chuva forte: entre 7,6mm e 50mm\n",
    "- Chuva violenta: mais de 50mm"
   ]
  },
  {
   "cell_type": "code",
   "execution_count": 15,
   "metadata": {},
   "outputs": [
    {
     "data": {
      "image/png": "[encoded data removed]",
      "text/plain": [
       "<Figure size 432x288 with 1 Axes>"
      ]
     },
     "metadata": {
      "needs_background": "light"
     },
     "output_type": "display_data"
    }
   ],
   "source": [
    "plt.hist(beer[(beer.precipt_mm >0)].loc[:,'precipt_mm'],bins=100);"
   ]
  },
  {
   "cell_type": "code",
   "execution_count": 16,
   "metadata": {},
   "outputs": [
    {
     "data": {
      "text/plain": [
       "0.1"
      ]
     },
     "execution_count": 16,
     "metadata": {},
     "output_type": "execute_result"
    }
   ],
   "source": [
    "beer[(beer['precipt_mm'] > 0)].loc[:,'precipt_mm'].min()"
   ]
  },
  {
   "cell_type": "code",
   "execution_count": 17,
   "metadata": {},
   "outputs": [],
   "source": [
    "bins_chuva = [0, 0.1, 2.5, 7.6, 50, (beer['precipt_mm'].max() + 1)]\n",
    "\n",
    "beer['precipt_cat'] = pd.cut(beer['precipt_mm'],bins = bins_chuva, labels=[\"sem chuva\", \"chuva leve\", \"chuva moderada\", \"chuva forte\", \"chuva violenta\"],right=False)"
   ]
  },
  {
   "cell_type": "markdown",
   "metadata": {},
   "source": [
    "**4.4 target column:**\n",
    "      \n",
    ">creating categorical column 'consumo_breja',"
   ]
  },
  {
   "cell_type": "code",
   "execution_count": 18,
   "metadata": {},
   "outputs": [],
   "source": [
    "bins_b = [beer['litros'].min() - 1,\n",
    "          beer['litros'].mean() - beer['litros'].std(),\n",
    "          beer['litros'].mean() + beer['litros'].std(),\n",
    "          beer['litros'].max() +1]\n",
    "\n",
    "\n",
    "beer['consumo_breja'] = pd.cut(beer.litros,bins = bins_b, labels=[\"baixo\", \"medio\", \"alto\"])"
   ]
  },
  {
   "cell_type": "code",
   "execution_count": 19,
   "metadata": {},
   "outputs": [
    {
     "data": {
      "text/html": [
       "<div>\n",
       "<style scoped>\n",
       "    .dataframe tbody tr th:only-of-type {\n",
       "        vertical-align: middle;\n",
       "    }\n",
       "\n",
       "    .dataframe tbody tr th {\n",
       "        vertical-align: top;\n",
       "    }\n",
       "\n",
       "    .dataframe thead th {\n",
       "        text-align: right;\n",
       "    }\n",
       "</style>\n",
       "<table border=\"1\" class=\"dataframe\">\n",
       "  <thead>\n",
       "    <tr style=\"text-align: right;\">\n",
       "      <th></th>\n",
       "      <th>data</th>\n",
       "      <th>t_med_c</th>\n",
       "      <th>t_min_c</th>\n",
       "      <th>t_max_c</th>\n",
       "      <th>precipt_mm</th>\n",
       "      <th>fds</th>\n",
       "      <th>litros</th>\n",
       "      <th>data_ordinal</th>\n",
       "      <th>estacao</th>\n",
       "      <th>dia_semana</th>\n",
       "      <th>t_med_cat</th>\n",
       "      <th>precipt_cat</th>\n",
       "      <th>consumo_breja</th>\n",
       "    </tr>\n",
       "  </thead>\n",
       "  <tbody>\n",
       "    <tr>\n",
       "      <th>0</th>\n",
       "      <td>2015-01-01</td>\n",
       "      <td>27.30</td>\n",
       "      <td>23.9</td>\n",
       "      <td>32.5</td>\n",
       "      <td>0.0</td>\n",
       "      <td>0.0</td>\n",
       "      <td>25.461</td>\n",
       "      <td>735599</td>\n",
       "      <td>verao</td>\n",
       "      <td>quinta</td>\n",
       "      <td>alta</td>\n",
       "      <td>sem chuva</td>\n",
       "      <td>medio</td>\n",
       "    </tr>\n",
       "    <tr>\n",
       "      <th>1</th>\n",
       "      <td>2015-01-02</td>\n",
       "      <td>27.02</td>\n",
       "      <td>24.5</td>\n",
       "      <td>33.5</td>\n",
       "      <td>0.0</td>\n",
       "      <td>0.0</td>\n",
       "      <td>28.972</td>\n",
       "      <td>735600</td>\n",
       "      <td>verao</td>\n",
       "      <td>sexta</td>\n",
       "      <td>alta</td>\n",
       "      <td>sem chuva</td>\n",
       "      <td>medio</td>\n",
       "    </tr>\n",
       "    <tr>\n",
       "      <th>2</th>\n",
       "      <td>2015-01-03</td>\n",
       "      <td>24.82</td>\n",
       "      <td>22.4</td>\n",
       "      <td>29.9</td>\n",
       "      <td>0.0</td>\n",
       "      <td>1.0</td>\n",
       "      <td>30.814</td>\n",
       "      <td>735601</td>\n",
       "      <td>verao</td>\n",
       "      <td>sabado</td>\n",
       "      <td>alta</td>\n",
       "      <td>sem chuva</td>\n",
       "      <td>alto</td>\n",
       "    </tr>\n",
       "    <tr>\n",
       "      <th>3</th>\n",
       "      <td>2015-01-04</td>\n",
       "      <td>23.98</td>\n",
       "      <td>21.5</td>\n",
       "      <td>28.6</td>\n",
       "      <td>1.2</td>\n",
       "      <td>1.0</td>\n",
       "      <td>29.799</td>\n",
       "      <td>735602</td>\n",
       "      <td>verao</td>\n",
       "      <td>domingo</td>\n",
       "      <td>media</td>\n",
       "      <td>chuva leve</td>\n",
       "      <td>medio</td>\n",
       "    </tr>\n",
       "    <tr>\n",
       "      <th>4</th>\n",
       "      <td>2015-01-05</td>\n",
       "      <td>23.82</td>\n",
       "      <td>21.0</td>\n",
       "      <td>28.3</td>\n",
       "      <td>0.0</td>\n",
       "      <td>0.0</td>\n",
       "      <td>28.900</td>\n",
       "      <td>735603</td>\n",
       "      <td>verao</td>\n",
       "      <td>segunda</td>\n",
       "      <td>media</td>\n",
       "      <td>sem chuva</td>\n",
       "      <td>medio</td>\n",
       "    </tr>\n",
       "  </tbody>\n",
       "</table>\n",
       "</div>"
      ],
      "text/plain": [
       "        data  t_med_c  t_min_c  t_max_c  precipt_mm  fds  litros  \\\n",
       "0 2015-01-01    27.30     23.9     32.5         0.0  0.0  25.461   \n",
       "1 2015-01-02    27.02     24.5     33.5         0.0  0.0  28.972   \n",
       "2 2015-01-03    24.82     22.4     29.9         0.0  1.0  30.814   \n",
       "3 2015-01-04    23.98     21.5     28.6         1.2  1.0  29.799   \n",
       "4 2015-01-05    23.82     21.0     28.3         0.0  0.0  28.900   \n",
       "\n",
       "   data_ordinal estacao dia_semana t_med_cat precipt_cat consumo_breja  \n",
       "0        735599   verao     quinta      alta   sem chuva         medio  \n",
       "1        735600   verao      sexta      alta   sem chuva         medio  \n",
       "2        735601   verao     sabado      alta   sem chuva          alto  \n",
       "3        735602   verao    domingo     media  chuva leve         medio  \n",
       "4        735603   verao    segunda     media   sem chuva         medio  "
      ]
     },
     "execution_count": 19,
     "metadata": {},
     "output_type": "execute_result"
    }
   ],
   "source": [
    "beer.head(5)"
   ]
  },
  {
   "cell_type": "code",
   "execution_count": 20,
   "metadata": {},
   "outputs": [
    {
     "data": {
      "text/plain": [
       "data             datetime64[ns]\n",
       "t_med_c                 float64\n",
       "t_min_c                 float64\n",
       "t_max_c                 float64\n",
       "precipt_mm              float64\n",
       "fds                     float64\n",
       "litros                  float64\n",
       "data_ordinal              int64\n",
       "estacao                  object\n",
       "dia_semana               object\n",
       "t_med_cat              category\n",
       "precipt_cat            category\n",
       "consumo_breja          category\n",
       "dtype: object"
      ]
     },
     "execution_count": 20,
     "metadata": {},
     "output_type": "execute_result"
    }
   ],
   "source": [
    "beer.dtypes"
   ]
  },
  {
   "cell_type": "markdown",
   "metadata": {},
   "source": [
    "**4.5 Get dummies season**"
   ]
  },
  {
   "cell_type": "code",
   "execution_count": 21,
   "metadata": {},
   "outputs": [],
   "source": [
    "categories = pd.get_dummies(beer['estacao'])"
   ]
  },
  {
   "cell_type": "markdown",
   "metadata": {},
   "source": [
    "**4.6 Get dummies weekday:**"
   ]
  },
  {
   "cell_type": "code",
   "execution_count": 22,
   "metadata": {},
   "outputs": [],
   "source": [
    "categories = pd.concat([categories, pd.get_dummies(beer['dia_semana'])], axis=1)"
   ]
  },
  {
   "cell_type": "markdown",
   "metadata": {},
   "source": [
    "**4.7 Get dummies mean temperature:**"
   ]
  },
  {
   "cell_type": "code",
   "execution_count": 23,
   "metadata": {},
   "outputs": [],
   "source": [
    "categories = pd.concat([categories, pd.get_dummies(beer['t_med_cat'])], axis=1)"
   ]
  },
  {
   "cell_type": "markdown",
   "metadata": {},
   "source": [
    "**4.8 Get dummies precipitation:**"
   ]
  },
  {
   "cell_type": "code",
   "execution_count": 24,
   "metadata": {},
   "outputs": [],
   "source": [
    "categories = pd.concat([categories, pd.get_dummies(beer['precipt_cat'])], axis=1)"
   ]
  },
  {
   "cell_type": "code",
   "execution_count": 25,
   "metadata": {},
   "outputs": [
    {
     "data": {
      "text/html": [
       "<div>\n",
       "<style scoped>\n",
       "    .dataframe tbody tr th:only-of-type {\n",
       "        vertical-align: middle;\n",
       "    }\n",
       "\n",
       "    .dataframe tbody tr th {\n",
       "        vertical-align: top;\n",
       "    }\n",
       "\n",
       "    .dataframe thead th {\n",
       "        text-align: right;\n",
       "    }\n",
       "</style>\n",
       "<table border=\"1\" class=\"dataframe\">\n",
       "  <thead>\n",
       "    <tr style=\"text-align: right;\">\n",
       "      <th></th>\n",
       "      <th>inverno</th>\n",
       "      <th>outono</th>\n",
       "      <th>primavera</th>\n",
       "      <th>verao</th>\n",
       "      <th>domingo</th>\n",
       "      <th>quarta</th>\n",
       "      <th>quinta</th>\n",
       "      <th>sabado</th>\n",
       "      <th>segunda</th>\n",
       "      <th>sexta</th>\n",
       "      <th>terca</th>\n",
       "      <th>baixa</th>\n",
       "      <th>media</th>\n",
       "      <th>alta</th>\n",
       "      <th>sem chuva</th>\n",
       "      <th>chuva leve</th>\n",
       "      <th>chuva moderada</th>\n",
       "      <th>chuva forte</th>\n",
       "      <th>chuva violenta</th>\n",
       "    </tr>\n",
       "  </thead>\n",
       "  <tbody>\n",
       "    <tr>\n",
       "      <th>0</th>\n",
       "      <td>0</td>\n",
       "      <td>0</td>\n",
       "      <td>0</td>\n",
       "      <td>1</td>\n",
       "      <td>0</td>\n",
       "      <td>0</td>\n",
       "      <td>1</td>\n",
       "      <td>0</td>\n",
       "      <td>0</td>\n",
       "      <td>0</td>\n",
       "      <td>0</td>\n",
       "      <td>0</td>\n",
       "      <td>0</td>\n",
       "      <td>1</td>\n",
       "      <td>1</td>\n",
       "      <td>0</td>\n",
       "      <td>0</td>\n",
       "      <td>0</td>\n",
       "      <td>0</td>\n",
       "    </tr>\n",
       "    <tr>\n",
       "      <th>1</th>\n",
       "      <td>0</td>\n",
       "      <td>0</td>\n",
       "      <td>0</td>\n",
       "      <td>1</td>\n",
       "      <td>0</td>\n",
       "      <td>0</td>\n",
       "      <td>0</td>\n",
       "      <td>0</td>\n",
       "      <td>0</td>\n",
       "      <td>1</td>\n",
       "      <td>0</td>\n",
       "      <td>0</td>\n",
       "      <td>0</td>\n",
       "      <td>1</td>\n",
       "      <td>1</td>\n",
       "      <td>0</td>\n",
       "      <td>0</td>\n",
       "      <td>0</td>\n",
       "      <td>0</td>\n",
       "    </tr>\n",
       "    <tr>\n",
       "      <th>2</th>\n",
       "      <td>0</td>\n",
       "      <td>0</td>\n",
       "      <td>0</td>\n",
       "      <td>1</td>\n",
       "      <td>0</td>\n",
       "      <td>0</td>\n",
       "      <td>0</td>\n",
       "      <td>1</td>\n",
       "      <td>0</td>\n",
       "      <td>0</td>\n",
       "      <td>0</td>\n",
       "      <td>0</td>\n",
       "      <td>0</td>\n",
       "      <td>1</td>\n",
       "      <td>1</td>\n",
       "      <td>0</td>\n",
       "      <td>0</td>\n",
       "      <td>0</td>\n",
       "      <td>0</td>\n",
       "    </tr>\n",
       "    <tr>\n",
       "      <th>3</th>\n",
       "      <td>0</td>\n",
       "      <td>0</td>\n",
       "      <td>0</td>\n",
       "      <td>1</td>\n",
       "      <td>1</td>\n",
       "      <td>0</td>\n",
       "      <td>0</td>\n",
       "      <td>0</td>\n",
       "      <td>0</td>\n",
       "      <td>0</td>\n",
       "      <td>0</td>\n",
       "      <td>0</td>\n",
       "      <td>1</td>\n",
       "      <td>0</td>\n",
       "      <td>0</td>\n",
       "      <td>1</td>\n",
       "      <td>0</td>\n",
       "      <td>0</td>\n",
       "      <td>0</td>\n",
       "    </tr>\n",
       "    <tr>\n",
       "      <th>4</th>\n",
       "      <td>0</td>\n",
       "      <td>0</td>\n",
       "      <td>0</td>\n",
       "      <td>1</td>\n",
       "      <td>0</td>\n",
       "      <td>0</td>\n",
       "      <td>0</td>\n",
       "      <td>0</td>\n",
       "      <td>1</td>\n",
       "      <td>0</td>\n",
       "      <td>0</td>\n",
       "      <td>0</td>\n",
       "      <td>1</td>\n",
       "      <td>0</td>\n",
       "      <td>1</td>\n",
       "      <td>0</td>\n",
       "      <td>0</td>\n",
       "      <td>0</td>\n",
       "      <td>0</td>\n",
       "    </tr>\n",
       "  </tbody>\n",
       "</table>\n",
       "</div>"
      ],
      "text/plain": [
       "   inverno  outono  primavera  verao  domingo  quarta  quinta  sabado  \\\n",
       "0        0       0          0      1        0       0       1       0   \n",
       "1        0       0          0      1        0       0       0       0   \n",
       "2        0       0          0      1        0       0       0       1   \n",
       "3        0       0          0      1        1       0       0       0   \n",
       "4        0       0          0      1        0       0       0       0   \n",
       "\n",
       "   segunda  sexta  terca  baixa  media  alta  sem chuva  chuva leve  \\\n",
       "0        0      0      0      0      0     1          1           0   \n",
       "1        0      1      0      0      0     1          1           0   \n",
       "2        0      0      0      0      0     1          1           0   \n",
       "3        0      0      0      0      1     0          0           1   \n",
       "4        1      0      0      0      1     0          1           0   \n",
       "\n",
       "   chuva moderada  chuva forte  chuva violenta  \n",
       "0               0            0               0  \n",
       "1               0            0               0  \n",
       "2               0            0               0  \n",
       "3               0            0               0  \n",
       "4               0            0               0  "
      ]
     },
     "execution_count": 25,
     "metadata": {},
     "output_type": "execute_result"
    }
   ],
   "source": [
    "categories.head()"
   ]
  },
  {
   "cell_type": "markdown",
   "metadata": {},
   "source": [
    "**5. Models**"
   ]
  },
  {
   "cell_type": "code",
   "execution_count": 26,
   "metadata": {},
   "outputs": [
    {
     "data": {
      "image/png": "[encoded data removed]",
      "text/plain": [
       "<Figure size 792x504 with 2 Axes>"
      ]
     },
     "metadata": {
      "needs_background": "light"
     },
     "output_type": "display_data"
    }
   ],
   "source": [
    "plt.figure(figsize=(11,7))\n",
    "sns.heatmap(beer.corr(),\n",
    "            vmin=-1,\n",
    "            vmax=1,\n",
    "            cmap='coolwarm',\n",
    "            annot=True);"
   ]
  },
  {
   "cell_type": "markdown",
   "metadata": {},
   "source": [
    "**5.1 Regression**"
   ]
  },
  {
   "cell_type": "code",
   "execution_count": 27,
   "metadata": {},
   "outputs": [],
   "source": [
    "from sklearn.model_selection import (train_test_split,cross_val_score)\n",
    "from sklearn.metrics import r2_score\n",
    "from sklearn import linear_model\n",
    "from sklearn.feature_selection import RFE\n",
    "from sklearn.svm import SVR\n",
    "from sklearn.tree import DecisionTreeRegressor"
   ]
  },
  {
   "cell_type": "markdown",
   "metadata": {},
   "source": [
    "**with 'data_ordinal' column**"
   ]
  },
  {
   "cell_type": "code",
   "execution_count": 28,
   "metadata": {},
   "outputs": [
    {
     "name": "stdout",
     "output_type": "stream",
     "text": [
      "+=================+==============================================================================================+\n",
      "|    INTERCEPT    |                                      -3407.404681698841                                      |\n",
      "+=================+==============================================================================================+\n",
      "|   COEFICIENTS   | ['β1 = 0.0046', 'β2 = 0.0395', 'β3 = -0.0006', 'β4 = 0.6501', 'β5 = -0.0438', 'β6 = 5.2319'] |\n",
      "+=================+==============================================================================================+\n",
      "| R^2 SCORE TRAIN |                                      0.7222840422785699                                      |\n",
      "+=================+==============================================================================================+\n",
      "|  R^2 SCORE TEST |                                      0.7405154433500203                                      |\n",
      "+=================+==============================================================================================+\n"
     ]
    }
   ],
   "source": [
    "# Variables\n",
    "X = beer.loc[:,['data_ordinal','t_med_c','t_min_c','t_max_c','precipt_mm','fds']]\n",
    "y = beer.loc[:,'litros']\n",
    "\n",
    "#Linear Regression Model\n",
    "l_model = linear_model.LinearRegression()\n",
    "X_train, X_test, y_train, y_test = train_test_split(X, y, test_size= 0.2, random_state=42)\n",
    "\n",
    "#Fitting and predicting\n",
    "l_model.fit(X_train, y_train)\n",
    "l_prediction = l_model.predict(X_test)\n",
    "\n",
    "#Result\n",
    "result_regression(l_model,X_train, X_test, y_train, y_test)"
   ]
  },
  {
   "cell_type": "markdown",
   "metadata": {},
   "source": [
    "**without 'data_ordinal' column**"
   ]
  },
  {
   "cell_type": "code",
   "execution_count": 29,
   "metadata": {},
   "outputs": [
    {
     "name": "stdout",
     "output_type": "stream",
     "text": [
      "+=================+===============================================================================+\n",
      "|    INTERCEPT    |                               6.419258105234817                               |\n",
      "+=================+===============================================================================+\n",
      "|   COEFICIENTS   | ['β1 = 0.0965', 'β2 = -0.0628', 'β3 = 0.6307', 'β4 = -0.0434', 'β5 = 5.1472'] |\n",
      "+=================+===============================================================================+\n",
      "| R^2 SCORE TRAIN |                               0.7104068706547428                              |\n",
      "+=================+===============================================================================+\n",
      "|  R^2 SCORE TEST |                               0.7427938181737361                              |\n",
      "+=================+===============================================================================+\n"
     ]
    }
   ],
   "source": [
    "# Variables\n",
    "X = beer.loc[:,['t_med_c','t_min_c','t_max_c','precipt_mm','fds']]\n",
    "y = beer.loc[:,'litros']\n",
    "\n",
    "#Linear Regression Model\n",
    "l_model = linear_model.LinearRegression()\n",
    "X_train, X_test, y_train, y_test = train_test_split(X, y, test_size= 0.2, random_state=42)\n",
    "\n",
    "#Fitting and predicting\n",
    "l_model.fit(X_train, y_train)\n",
    "l_prediction = l_model.predict(X_test)\n",
    "\n",
    "#Result\n",
    "result_regression(l_model,X_train, X_test, y_train, y_test)"
   ]
  },
  {
   "cell_type": "markdown",
   "metadata": {},
   "source": [
    "**Using RFE**"
   ]
  },
  {
   "cell_type": "code",
   "execution_count": 30,
   "metadata": {},
   "outputs": [
    {
     "name": "stdout",
     "output_type": "stream",
     "text": [
      "Fitting estimator with 5 features.\n",
      "Fitting estimator with 4 features.\n"
     ]
    },
    {
     "data": {
      "text/plain": [
       "RFE(estimator=LinearRegression(copy_X=True, fit_intercept=True, n_jobs=None,\n",
       "         normalize=False),\n",
       "  n_features_to_select=3, step=1, verbose=3)"
      ]
     },
     "execution_count": 30,
     "metadata": {},
     "output_type": "execute_result"
    }
   ],
   "source": [
    "rfe = RFE(l_model, n_features_to_select = 3, verbose =3)\n",
    "rfe.fit(X_train,y_train)"
   ]
  },
  {
   "cell_type": "code",
   "execution_count": 31,
   "metadata": {},
   "outputs": [
    {
     "data": {
      "text/plain": [
       "array([2, 1, 1, 3, 1])"
      ]
     },
     "execution_count": 31,
     "metadata": {},
     "output_type": "execute_result"
    }
   ],
   "source": [
    "rfe.ranking_"
   ]
  },
  {
   "cell_type": "code",
   "execution_count": 32,
   "metadata": {},
   "outputs": [
    {
     "data": {
      "text/html": [
       "<div>\n",
       "<style scoped>\n",
       "    .dataframe tbody tr th:only-of-type {\n",
       "        vertical-align: middle;\n",
       "    }\n",
       "\n",
       "    .dataframe tbody tr th {\n",
       "        vertical-align: top;\n",
       "    }\n",
       "\n",
       "    .dataframe thead th {\n",
       "        text-align: right;\n",
       "    }\n",
       "</style>\n",
       "<table border=\"1\" class=\"dataframe\">\n",
       "  <thead>\n",
       "    <tr style=\"text-align: right;\">\n",
       "      <th></th>\n",
       "      <th>t_med_c</th>\n",
       "      <th>t_min_c</th>\n",
       "      <th>t_max_c</th>\n",
       "      <th>precipt_mm</th>\n",
       "      <th>fds</th>\n",
       "    </tr>\n",
       "  </thead>\n",
       "  <tbody>\n",
       "  </tbody>\n",
       "</table>\n",
       "</div>"
      ],
      "text/plain": [
       "Empty DataFrame\n",
       "Columns: [t_med_c, t_min_c, t_max_c, precipt_mm, fds]\n",
       "Index: []"
      ]
     },
     "execution_count": 32,
     "metadata": {},
     "output_type": "execute_result"
    }
   ],
   "source": [
    "X_train.head(0)"
   ]
  },
  {
   "cell_type": "code",
   "execution_count": 33,
   "metadata": {},
   "outputs": [
    {
     "name": "stdout",
     "output_type": "stream",
     "text": [
      "+=================+===============================================+\n",
      "|    INTERCEPT    |               6.366518335274023               |\n",
      "+=================+===============================================+\n",
      "|   COEFICIENTS   | ['β1 = 0.6685', 'β2 = -0.0438', 'β3 = 5.155'] |\n",
      "+=================+===============================================+\n",
      "| R^2 SCORE TRAIN |               0.7101374278594039              |\n",
      "+=================+===============================================+\n",
      "|  R^2 SCORE TEST |               0.7443386646797043              |\n",
      "+=================+===============================================+\n"
     ]
    }
   ],
   "source": [
    "X_modified = X = beer.loc[:,['t_max_c','precipt_mm','fds']]\n",
    "\n",
    "#Linear Regression Model\n",
    "l_model_2 = linear_model.LinearRegression()\n",
    "X_train_2, X_test_2, y_train_2, y_test_2 = train_test_split(X_modified, y, test_size= 0.2, random_state=42)\n",
    "\n",
    "#Fitting and predicting\n",
    "l_model_2.fit(X_train_2, y_train_2)\n",
    "l_prediction_2 = l_model_2.predict(X_test_2)\n",
    "\n",
    "#Result\n",
    "result_regression(l_model_2,X_train_2, X_test_2, y_train_2, y_test_2)"
   ]
  },
  {
   "cell_type": "markdown",
   "metadata": {},
   "source": [
    "**Using SVM Regressor**"
   ]
  },
  {
   "cell_type": "code",
   "execution_count": 34,
   "metadata": {},
   "outputs": [
    {
     "name": "stdout",
     "output_type": "stream",
     "text": [
      "+=================+=============================================================================+\n",
      "|    INTERCEPT    |                                  [7.247705]                                 |\n",
      "+=================+=============================================================================+\n",
      "|   COEFICIENTS   | ['β1 = 0.2715', 'β2 = -0.225', 'β3 = 0.5645', 'β4 = -0.024', 'β5 = 4.4921'] |\n",
      "+=================+=============================================================================+\n",
      "| R^2 SCORE TRAIN |                              0.7007864821520006                             |\n",
      "+=================+=============================================================================+\n",
      "|  R^2 SCORE TEST |                              0.7075926968898265                             |\n",
      "+=================+=============================================================================+\n"
     ]
    }
   ],
   "source": [
    "# Variables\n",
    "X_svr = beer.loc[:,['t_med_c','t_min_c','t_max_c','precipt_mm','fds']]\n",
    "y_svr = beer.loc[:,'litros']\n",
    "\n",
    "#Linear Regression Model\n",
    "svm_model = SVR(kernel = 'linear', gamma='auto')\n",
    "#svm_model = SVR(gamma='auto')\n",
    "X_train_svr, X_test_svr, y_train_svr, y_test_svr = train_test_split(X_svr, y_svr, test_size= 0.2, random_state=42)\n",
    "\n",
    "#Fitting and predicting\n",
    "svm_model.fit(X_train_svr, y_train_svr)\n",
    "svm_prediction = svm_model.predict(X_test_svr)\n",
    "\n",
    "#Result\n",
    "result_regression(svm_model,X_train_svr,X_test_svr,y_train_svr,y_test_svr)"
   ]
  },
  {
   "cell_type": "markdown",
   "metadata": {},
   "source": [
    "**Using SVM Regressor (3 best features)**"
   ]
  },
  {
   "cell_type": "code",
   "execution_count": 35,
   "metadata": {},
   "outputs": [
    {
     "name": "stdout",
     "output_type": "stream",
     "text": [
      "+=================+================================================+\n",
      "|    INTERCEPT    |                  [6.35370609]                  |\n",
      "+=================+================================================+\n",
      "|   COEFICIENTS   | ['β1 = 0.6718', 'β2 = -0.0325', 'β3 = 4.4792'] |\n",
      "+=================+================================================+\n",
      "| R^2 SCORE TRAIN |               0.7040527784065155               |\n",
      "+=================+================================================+\n",
      "|  R^2 SCORE TEST |               0.7256925082803083               |\n",
      "+=================+================================================+\n"
     ]
    }
   ],
   "source": [
    "# Variables\n",
    "X_svr_3b = beer.loc[:,['t_max_c','precipt_mm','fds']]\n",
    "y_svr_3b = beer.loc[:,'litros']\n",
    "\n",
    "#Linear Regression Model\n",
    "svm_model_3b = SVR(kernel = 'linear', gamma='auto')\n",
    "#svm_model = SVR(gamma='auto')\n",
    "X_train_svr_3b, X_test_svr_3b, y_train_svr_3b, y_test_svr_3b = train_test_split(X_svr_3b, y_svr_3b, test_size= 0.2, random_state=42)\n",
    "\n",
    "#Fitting and predicting\n",
    "svm_model_3b.fit(X_train_svr_3b, y_train_svr_3b)\n",
    "svm_prediction_3b = svm_model_3b.predict(X_test_svr_3b)\n",
    "\n",
    "#Result\n",
    "result_regression(svm_model_3b,X_train_svr_3b, X_test_svr_3b, y_train_svr_3b, y_test_svr_3b)"
   ]
  },
  {
   "cell_type": "markdown",
   "metadata": {},
   "source": [
    "**Using DecisionTree Regressor(3 best features)**"
   ]
  },
  {
   "cell_type": "code",
   "execution_count": 36,
   "metadata": {},
   "outputs": [
    {
     "name": "stdout",
     "output_type": "stream",
     "text": [
      "R^2 SCORE TRAIN: 0.9503431252723982\n",
      "R^2 SCORE TEST: 0.5972415641561792\n",
      "\n",
      "[0.28252489 0.51999935 0.4357073 ]\n"
     ]
    }
   ],
   "source": [
    "# Variables\n",
    "X_tree_r = beer.loc[:,['t_max_c','precipt_mm','fds']]\n",
    "y_tree_r = beer.loc[:,'litros']\n",
    "\n",
    "#Linear Regression Model\n",
    "tree_r_model = DecisionTreeRegressor(random_state=42)\n",
    "X_train_tree_r, X_test_tree_r, y_train_tree_r, y_test_tree_r = train_test_split(X_tree_r, y_tree_r, test_size= 0.2, random_state=42)\n",
    "\n",
    "#Fitting and predicting\n",
    "tree_r_model.fit(X_train_tree_r, y_train_tree_r)\n",
    "tree_r_prediction = tree_r_model.predict(X_test_tree_r)\n",
    "\n",
    "#Result\n",
    "print(f'R^2 SCORE TRAIN: {tree_r_model.score(X_train_tree_r,y_train_tree_r)}')\n",
    "print(f'R^2 SCORE TEST: {tree_r_model.score(X_test_tree_r,y_test_tree_r)}')\n",
    "print()\n",
    "print(cross_val_score(tree_r_model, X_tree_r, y_tree_r,cv=3))"
   ]
  },
  {
   "cell_type": "markdown",
   "metadata": {},
   "source": [
    "**5.2 Categorical**"
   ]
  },
  {
   "cell_type": "code",
   "execution_count": 37,
   "metadata": {},
   "outputs": [],
   "source": [
    "from sklearn.tree import DecisionTreeClassifier\n",
    "from sklearn.linear_model import LogisticRegression\n",
    "from sklearn.svm import SVC\n",
    "from sklearn.metrics import classification_report\n",
    "from sklearn.metrics import confusion_matrix\n",
    "import scikitplot as skplt\n",
    "from sklearn.neighbors import KNeighborsClassifier"
   ]
  },
  {
   "cell_type": "markdown",
   "metadata": {},
   "source": [
    "**Using Decision Tree Classifier**"
   ]
  },
  {
   "cell_type": "code",
   "execution_count": 38,
   "metadata": {},
   "outputs": [
    {
     "data": {
      "text/plain": [
       "<matplotlib.axes._subplots.AxesSubplot at 0x133b44e2940>"
      ]
     },
     "execution_count": 38,
     "metadata": {},
     "output_type": "execute_result"
    },
    {
     "data": {
      "image/png": "[encoded data removed]",
      "text/plain": [
       "<Figure size 504x216 with 2 Axes>"
      ]
     },
     "metadata": {
      "needs_background": "light"
     },
     "output_type": "display_data"
    }
   ],
   "source": [
    "# Variables\n",
    "X_tree_c = categories.copy()\n",
    "#y_tree_c = beer.consumo_breja.apply(lambda x: 1 if x ==\"baixo\" else (2 if x==\"medio\" else 3))\n",
    "y_tree_c = beer.consumo_breja.copy()\n",
    "\n",
    "#Model\n",
    "tree_c_model = DecisionTreeClassifier(random_state=42)\n",
    "X_train_tree_c, X_test_tree_c, y_train_tree_c, y_test_tree_c = train_test_split(np.array(X_tree_c), np.array(y_tree_c), test_size= 0.2, random_state=42)\n",
    "\n",
    "#Fitting and predicting\n",
    "tree_c_model.fit(X_train_tree_c, y_train_tree_c)\n",
    "tree_c_prediction = tree_c_model.predict(X_test_tree_c)\n",
    "\n",
    "#Result\n",
    "skplt.metrics.plot_confusion_matrix(y_test_tree_c, tree_c_prediction,figsize=(7,3))"
   ]
  },
  {
   "cell_type": "code",
   "execution_count": 39,
   "metadata": {},
   "outputs": [
    {
     "name": "stdout",
     "output_type": "stream",
     "text": [
      "              precision    recall  f1-score   support\n",
      "\n",
      "        alto       0.52      0.76      0.62        17\n",
      "       baixo       0.36      0.50      0.42         8\n",
      "       medio       0.78      0.60      0.68        48\n",
      "\n",
      "   micro avg       0.63      0.63      0.63        73\n",
      "   macro avg       0.56      0.62      0.57        73\n",
      "weighted avg       0.68      0.63      0.64        73\n",
      "\n"
     ]
    }
   ],
   "source": [
    "print(classification_report(y_test_tree_c, tree_c_prediction))"
   ]
  },
  {
   "cell_type": "markdown",
   "metadata": {},
   "source": [
    "**Using Logistic Regression**"
   ]
  },
  {
   "cell_type": "code",
   "execution_count": 40,
   "metadata": {},
   "outputs": [
    {
     "name": "stderr",
     "output_type": "stream",
     "text": [
      "C:\\ProgramData\\Anaconda3\\lib\\site-packages\\sklearn\\linear_model\\logistic.py:433: FutureWarning: Default solver will be changed to 'lbfgs' in 0.22. Specify a solver to silence this warning.\n",
      "  FutureWarning)\n",
      "C:\\ProgramData\\Anaconda3\\lib\\site-packages\\sklearn\\linear_model\\logistic.py:460: FutureWarning: Default multi_class will be changed to 'auto' in 0.22. Specify the multi_class option to silence this warning.\n",
      "  \"this warning.\", FutureWarning)\n"
     ]
    },
    {
     "data": {
      "text/plain": [
       "<matplotlib.axes._subplots.AxesSubplot at 0x133b44806d8>"
      ]
     },
     "execution_count": 40,
     "metadata": {},
     "output_type": "execute_result"
    },
    {
     "data": {
      "image/png": "[encoded data removed]",
      "text/plain": [
       "<Figure size 504x216 with 2 Axes>"
      ]
     },
     "metadata": {
      "needs_background": "light"
     },
     "output_type": "display_data"
    }
   ],
   "source": [
    "# Variables\n",
    "X_lg = categories.copy()\n",
    "#y_tree_c = beer.consumo_breja.apply(lambda x: 1 if x ==\"baixo\" else (2 if x==\"medio\" else 3))\n",
    "y_lg = beer.consumo_breja.copy()\n",
    "\n",
    "#Model\n",
    "lg_model = LogisticRegression()\n",
    "X_train_lg, X_test_lg, y_train_lg, y_test_lg = train_test_split(np.array(X_lg), np.array(y_lg), test_size= 0.2, random_state=42)\n",
    "\n",
    "#Fitting and predicting\n",
    "lg_model.fit(X_train_lg, y_train_lg)\n",
    "lg_prediction = lg_model.predict(X_test_lg)\n",
    "\n",
    "#Result\n",
    "skplt.metrics.plot_confusion_matrix(y_test_lg, lg_prediction,figsize=(7,3))"
   ]
  },
  {
   "cell_type": "code",
   "execution_count": 41,
   "metadata": {},
   "outputs": [
    {
     "name": "stdout",
     "output_type": "stream",
     "text": [
      "              precision    recall  f1-score   support\n",
      "\n",
      "        alto       0.70      0.41      0.52        17\n",
      "       baixo       1.00      0.12      0.22         8\n",
      "       medio       0.73      0.94      0.82        48\n",
      "\n",
      "   micro avg       0.73      0.73      0.73        73\n",
      "   macro avg       0.81      0.49      0.52        73\n",
      "weighted avg       0.75      0.73      0.68        73\n",
      "\n"
     ]
    }
   ],
   "source": [
    "print(classification_report(y_test_lg, lg_prediction))"
   ]
  },
  {
   "cell_type": "markdown",
   "metadata": {},
   "source": [
    "**Using SVM Classifier**"
   ]
  },
  {
   "cell_type": "code",
   "execution_count": 42,
   "metadata": {},
   "outputs": [
    {
     "data": {
      "text/plain": [
       "<matplotlib.axes._subplots.AxesSubplot at 0x133b466d3c8>"
      ]
     },
     "execution_count": 42,
     "metadata": {},
     "output_type": "execute_result"
    },
    {
     "data": {
      "image/png": "[encoded data removed]",
      "text/plain": [
       "<Figure size 504x216 with 2 Axes>"
      ]
     },
     "metadata": {
      "needs_background": "light"
     },
     "output_type": "display_data"
    }
   ],
   "source": [
    "# Variables\n",
    "X_svc = categories.copy()\n",
    "y_svc = beer.consumo_breja.copy()\n",
    "\n",
    "#Model\n",
    "svc_model = SVC(kernel='linear',gamma='auto')\n",
    "X_train_svc, X_test_svc, y_train_svc, y_test_svc = train_test_split(np.array(X_svc), np.array(y_svc), test_size= 0.2, random_state=42)\n",
    "\n",
    "#Fitting and predicting\n",
    "svc_model.fit(X_train_svc, y_train_svc)\n",
    "svc_prediction = svc_model.predict(X_test_svc)\n",
    "\n",
    "#Result\n",
    "skplt.metrics.plot_confusion_matrix(y_test_lg, svc_prediction,figsize=(7,3))"
   ]
  },
  {
   "cell_type": "code",
   "execution_count": 43,
   "metadata": {},
   "outputs": [
    {
     "name": "stdout",
     "output_type": "stream",
     "text": [
      "              precision    recall  f1-score   support\n",
      "\n",
      "        alto       0.65      0.76      0.70        17\n",
      "       baixo       0.75      0.75      0.75         8\n",
      "       medio       0.87      0.81      0.84        48\n",
      "\n",
      "   micro avg       0.79      0.79      0.79        73\n",
      "   macro avg       0.76      0.78      0.76        73\n",
      "weighted avg       0.80      0.79      0.80        73\n",
      "\n"
     ]
    }
   ],
   "source": [
    "print(classification_report(y_test_lg, svc_prediction))"
   ]
  },
  {
   "cell_type": "markdown",
   "metadata": {},
   "source": [
    "**Using KNN Classifier**"
   ]
  },
  {
   "cell_type": "code",
   "execution_count": 44,
   "metadata": {},
   "outputs": [
    {
     "data": {
      "text/plain": [
       "<matplotlib.axes._subplots.AxesSubplot at 0x133b4708278>"
      ]
     },
     "execution_count": 44,
     "metadata": {},
     "output_type": "execute_result"
    },
    {
     "data": {
      "image/png": "[encoded data removed]",
      "text/plain": [
       "<Figure size 504x216 with 2 Axes>"
      ]
     },
     "metadata": {
      "needs_background": "light"
     },
     "output_type": "display_data"
    }
   ],
   "source": [
    "# Variables\n",
    "X_knn = categories.copy()\n",
    "y_knn = beer.consumo_breja.copy()\n",
    "\n",
    "#Model\n",
    "knn_model = KNeighborsClassifier(n_neighbors=3)\n",
    "X_train_knn, X_test_knn, y_train_knn, y_test_knn = train_test_split(np.array(X_knn), np.array(y_knn), test_size= 0.2, random_state=42)\n",
    "\n",
    "#Fitting and predicting\n",
    "knn_model.fit(X_train_knn, y_train_knn)\n",
    "knn_prediction = svc_model.predict(X_test_knn)\n",
    "\n",
    "#Result\n",
    "skplt.metrics.plot_confusion_matrix(y_test_knn, knn_prediction,figsize=(7,3))"
   ]
  },
  {
   "cell_type": "code",
   "execution_count": 45,
   "metadata": {},
   "outputs": [
    {
     "name": "stdout",
     "output_type": "stream",
     "text": [
      "              precision    recall  f1-score   support\n",
      "\n",
      "        alto       0.65      0.76      0.70        17\n",
      "       baixo       0.75      0.75      0.75         8\n",
      "       medio       0.87      0.81      0.84        48\n",
      "\n",
      "   micro avg       0.79      0.79      0.79        73\n",
      "   macro avg       0.76      0.78      0.76        73\n",
      "weighted avg       0.80      0.79      0.80        73\n",
      "\n"
     ]
    }
   ],
   "source": [
    "print(classification_report(y_test_knn, knn_prediction))"
   ]
  },
  {
   "cell_type": "markdown",
   "metadata": {},
   "source": [
    "+++++++++++++++++++++++++++++++++++++++++++++++++++++++++++++++++++++++++++++++++++++++++++++++++++++++++++++++++++++++++++++++++++++++++++++++++++"
   ]
  },
  {
   "cell_type": "markdown",
   "metadata": {},
   "source": [
    "# TODO"
   ]
  },
  {
   "cell_type": "code",
   "execution_count": 46,
   "metadata": {},
   "outputs": [
    {
     "data": {
      "image/png": "[encoded data removed]",
      "text/plain": [
       "<Figure size 432x288 with 1 Axes>"
      ]
     },
     "metadata": {
      "needs_background": "light"
     },
     "output_type": "display_data"
    }
   ],
   "source": [
    "sns.distplot(beer.loc[beer['fds'] == 1,'litros']);\n",
    "\n",
    "sns.distplot(beer.loc[beer['fds'] == 0,'litros']);\n",
    "plt.legend(['Final de Semana', 'Durante Semana']);"
   ]
  },
  {
   "cell_type": "code",
   "execution_count": 47,
   "metadata": {},
   "outputs": [],
   "source": [
    "#class Machine:\n",
    "#    \"\"\"\n",
    "#    Calcula e \n",
    "#    \"\"\"\n",
    "#    def __init__(self,...):\n",
    "#\n",
    "#    def category(X_train,X_test,y_train,y_test):\n",
    "#    \n",
    "#    def continuous(X_train,X_test,y_train,y_test):\n",
    "        "
   ]
  },
  {
   "cell_type": "code",
   "execution_count": 48,
   "metadata": {},
   "outputs": [],
   "source": [
    "#beer[(beer['Final de Semana']==1.0)]\n",
    "#beer.loc[:,'Final de Semana']"
   ]
  }
 ],
 "metadata": {
  "kernelspec": {
   "display_name": "Python 3",
   "language": "python",
   "name": "python3"
  },
  "language_info": {
   "codemirror_mode": {
    "name": "ipython",
    "version": 3
   },
   "file_extension": ".py",
   "mimetype": "text/x-python",
   "name": "python",
   "nbconvert_exporter": "python",
   "pygments_lexer": "ipython3",
   "version": "3.7.3"
  }
 },
 "nbformat": 4,
 "nbformat_minor": 2
}
